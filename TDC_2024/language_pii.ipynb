{
 "cells": [
  {
   "cell_type": "markdown",
   "id": "a4896641",
   "metadata": {},
   "source": [
    "### OCI Language + PII\n"
   ]
  },
  {
   "cell_type": "code",
   "execution_count": 1,
   "id": "eb81db6b",
   "metadata": {
    "tags": []
   },
   "outputs": [],
   "source": [
    "from oci.object_storage import ObjectStorageClient\n",
    "from oci.config import from_file\n",
    "from oci.signer import Signer\n",
    "import oci\n"
   ]
  },
  {
   "cell_type": "code",
   "execution_count": 2,
   "id": "465c6225",
   "metadata": {
    "tags": []
   },
   "outputs": [],
   "source": [
    "# Setup basic variables\n",
    "# Auth Config\n",
    "CONFIG_PROFILE = \"DEFAULT\"\n",
    "config = oci.config.from_file('config', CONFIG_PROFILE)"
   ]
  },
  {
   "cell_type": "code",
   "execution_count": 3,
   "id": "d3e37033",
   "metadata": {
    "tags": []
   },
   "outputs": [],
   "source": [
    "namespace_name = \"34343434\"\n",
    "compartment_id = \"343434\""
   ]
  },
  {
   "cell_type": "code",
   "execution_count": 4,
   "id": "f55dc15b",
   "metadata": {
    "tags": []
   },
   "outputs": [],
   "source": [
    "aiservicedocument_client = oci.ai_document.AIServiceDocumentClientCompositeOperations(oci.ai_document.AIServiceDocumentClient(config=config))\n",
    "ai_language_client = oci.ai_language.AIServiceLanguageClient(config)"
   ]
  },
  {
   "cell_type": "code",
   "execution_count": 5,
   "id": "ec55e843",
   "metadata": {
    "tags": []
   },
   "outputs": [
    {
     "name": "stdout",
     "output_type": "stream",
     "text": [
      "{\n",
      "  \"documents\": [\n",
      "    {\n",
      "      \"entities\": [\n",
      "        {\n",
      "          \"length\": 12,\n",
      "          \"offset\": 0,\n",
      "          \"score\": 0.9988169968128204,\n",
      "          \"text\": \"Rui Romanini\",\n",
      "          \"type\": \"PERSON\"\n",
      "        },\n",
      "        {\n",
      "          \"length\": 12,\n",
      "          \"offset\": 39,\n",
      "          \"score\": 0.8190979957580566,\n",
      "          \"text\": \"243342342-34\",\n",
      "          \"type\": \"SSN_OR_TAXPAYER\"\n",
      "        },\n",
      "        {\n",
      "          \"length\": 15,\n",
      "          \"offset\": 66,\n",
      "          \"score\": 0.9976900964975357,\n",
      "          \"text\": \"(011) 9999-2399\",\n",
      "          \"type\": \"TELEPHONE_NUMBER\"\n",
      "        }\n",
      "      ],\n",
      "      \"key\": \"EXAMPLE_KEY_49u4z\",\n",
      "      \"language_code\": \"en\",\n",
      "      \"masked_text\": \"***********i, com n\\u00famero de identidade ***********4, com telefone **************9\"\n",
      "    }\n",
      "  ],\n",
      "  \"errors\": []\n",
      "}\n"
     ]
    }
   ],
   "source": [
    "texto = \"Rui Romanini, com número de identidade 243342342-34, com telefone (011) 9999-2399\"\n",
    "batch_detect_language_pii_entities_response = ai_language_client.batch_detect_language_pii_entities(\n",
    "    batch_detect_language_pii_entities_details=oci.ai_language.models.BatchDetectLanguagePiiEntitiesDetails(\n",
    "        documents=[\n",
    "            oci.ai_language.models.TextDocument(\n",
    "                key=\"EXAMPLE_KEY_49u4z\",\n",
    "                text=texto,\n",
    "                language_code=\"en\")],\n",
    "        compartment_id=compartment_id,\n",
    "        masking={\n",
    "            'ALL': {\n",
    "                'mode': 'MASK',\n",
    "                        'maskingCharacter': '*',\n",
    "                        'isUnmaskedFromEnd': True,\n",
    "                        'leaveCharactersUnmasked': 1}}),\n",
    "    opc_request_id=\"MIDJFV6YOEF7TO4SVP8R234\")\n",
    "\n",
    "\n",
    "# Get the data from response\n",
    "print(batch_detect_language_pii_entities_response.data)"
   ]
  },
  {
   "cell_type": "code",
   "execution_count": null,
   "id": "d4523c1b",
   "metadata": {},
   "outputs": [],
   "source": []
  }
 ],
 "metadata": {
  "kernelspec": {
   "display_name": "Python 3 (ipykernel)",
   "language": "python",
   "name": "python3"
  },
  "language_info": {
   "codemirror_mode": {
    "name": "ipython",
    "version": 3
   },
   "file_extension": ".py",
   "mimetype": "text/x-python",
   "name": "python",
   "nbconvert_exporter": "python",
   "pygments_lexer": "ipython3",
   "version": "3.8.17"
  }
 },
 "nbformat": 4,
 "nbformat_minor": 5
}
