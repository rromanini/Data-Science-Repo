{
 "cells": [
  {
   "cell_type": "markdown",
   "id": "63e8c63a-6409-4ce8-8ed6-3b2afc955c39",
   "metadata": {},
   "source": [
    "### Processamento de PDFs com LLMs\n"
   ]
  },
  {
   "cell_type": "code",
   "execution_count": 8,
   "id": "38c3fefb-5573-4a73-9614-b77cd077dbf5",
   "metadata": {
    "tags": []
   },
   "outputs": [],
   "source": [
    "#! pip install openai\n",
    "#! pip install pinecone-client\n",
    "#! pip install -U langchain\n",
    "#! pip install watermark\n",
    "#!pip install pypdf\n",
    "#! pip install python-dotenv\n",
    "#! pip install tiktoken\n",
    "#!pip install -U sqlalchemy"
   ]
  },
  {
   "cell_type": "code",
   "execution_count": 9,
   "id": "b6e2f9b1-6330-410a-a2de-05bca6b8baf8",
   "metadata": {},
   "outputs": [],
   "source": [
    "#! pip install faiss-gpu"
   ]
  },
  {
   "cell_type": "code",
   "execution_count": 139,
   "id": "8eaf03cc-d7a0-4344-b7ac-ac72ac8da5ae",
   "metadata": {
    "tags": []
   },
   "outputs": [],
   "source": [
    "import os\n",
    "import langchain\n",
    "from langchain.document_loaders import PyPDFDirectoryLoader\n",
    "from langchain_community.embeddings import OCIGenAIEmbeddings\n",
    "from langchain.vectorstores import Pinecone\n",
    "from langchain.chains.question_answering import load_qa_chain\n",
    "import warnings\n",
    "import oci\n",
    "warnings.filterwarnings('ignore')\n",
    "from oci.config import from_file\n",
    "from oci.object_storage import ObjectStorageClient"
   ]
  },
  {
   "cell_type": "code",
   "execution_count": 140,
   "id": "23690611-aa1f-4361-846c-d65a25986e2e",
   "metadata": {},
   "outputs": [],
   "source": [
    "# Setup basic variables\n",
    "# Auth Config\n",
    "CONFIG_PROFILE = \"DEFAULT\"\n",
    "config = oci.config.from_file('config', CONFIG_PROFILE)\n"
   ]
  },
  {
   "cell_type": "code",
   "execution_count": 141,
   "id": "dcc7bb03-6cd2-4c9e-9873-0c3929fc64cf",
   "metadata": {
    "tags": []
   },
   "outputs": [],
   "source": [
    "from langchain_community.llms import OCIGenAI\n",
    "llm = OCIGenAI(\n",
    "    model_id=\"cohere.command\",\n",
    "    service_endpoint=\"https://inference.generativeai.us-chicago-1.oci.oraclecloud.com\",\n",
    "    compartment_id=\"ocid1.compartment.oc1..aaaaaaaaokklvuixgex5dl6phxmr3v4bxwnxkggtnfj6qtjbtfcve2uyimda\",\n",
    "    auth_type=\"API_KEY\",\n",
    "    auth_profile=CONFIG_PROFILE,# DataScienceExperience compartment\n",
    "    model_kwargs={\"temperature\": 0.4, \"top_p\": 0.2, \"max_tokens\": 300},\n",
    ")"
   ]
  },
  {
   "cell_type": "code",
   "execution_count": 144,
   "id": "024125d6-900a-4818-aab1-87796ae0afbe",
   "metadata": {
    "tags": []
   },
   "outputs": [
    {
     "name": "stdout",
     "output_type": "stream",
     "text": [
      " The OCI Language Service is a set of features offered by the Oracle Cloud Infrastructure (OCI) that are designed to help developers build, deploy, and manage applications that require language processing capabilities. It provides a range of language-specific services and tools that can be used to enable intelligent language processing and analysis within an application. \n",
      "\n",
      "Here are some key features and capabilities of the OCI Language Service:\n",
      "1. **Natural Language Processing (NLP)**: The service offers built-in NLP capabilities that enable you to extract information and perform tasks such as entity recognition, sentiment analysis, language detection, and text classification. These features can be used to analyze and gain insights from unstructured text data, enabling applications like customer sentiment analysis, document classification, and language-based analytics.\n",
      "2. **Text Analytics**: The service integrates with Oracle Cloud Infrastructure's other services and platforms to provide advanced text analytics capabilities. This includes features like fraud detection, anomaly detection, and predictive analytics, which can help organizations leverage language data to identify patterns, predict outcomes, and make informed decisions.\n",
      "3. **Language Detection and Translation**: The service has the capability to detect the language of text data and perform translations between different languages. This can be useful in building multilingual applications or facilitating communication and understanding across language barriers.\n",
      "4. **Text Generation and Summarization**: The service provides capabilities for automated text generation and summarization, which can be used in applications like content generation, document abstraction, and story generation.\n",
      "\n"
     ]
    }
   ],
   "source": [
    "prompt = \"\"\"What is the OCI Language service?\"\"\"\n",
    "\n",
    "response = llm.invoke(prompt)\n",
    "print(response)\n"
   ]
  },
  {
   "cell_type": "code",
   "execution_count": null,
   "id": "a2035208-0715-4ebd-a35f-bad62dc6cc21",
   "metadata": {},
   "outputs": [],
   "source": []
  },
  {
   "cell_type": "markdown",
   "id": "a67db0cc-7556-4d0f-8161-6a00833165bf",
   "metadata": {},
   "source": [
    "### Extraindo Texto de Arquivos PDF"
   ]
  },
  {
   "cell_type": "code",
   "execution_count": 102,
   "id": "4ee55eca-41ac-429a-9e04-e5eeffc27a77",
   "metadata": {
    "tags": []
   },
   "outputs": [],
   "source": [
    "def dsa_read_pdf(directory_path):\n",
    "    #Acessa a pasta com o arquivo\n",
    "    file_loader = PyPDFDirectoryLoader(directory_path)\n",
    "    \n",
    "    #Lê o documento da pasta\n",
    "    documents = file_loader.load()\n",
    "    \n",
    "    return documents"
   ]
  },
  {
   "cell_type": "code",
   "execution_count": 103,
   "id": "bed4be9b-b6e8-4bda-971e-9d330650dd55",
   "metadata": {
    "tags": []
   },
   "outputs": [],
   "source": [
    "dsa_doc = dsa_read_pdf('documentos')"
   ]
  },
  {
   "cell_type": "code",
   "execution_count": 104,
   "id": "4a7a5834-48bd-4042-b237-28f8160a9f59",
   "metadata": {
    "tags": []
   },
   "outputs": [],
   "source": [
    "lista_textos = []\n",
    "i=0"
   ]
  },
  {
   "cell_type": "code",
   "execution_count": null,
   "id": "ac120b4e-1023-4dec-ad85-01c260610f80",
   "metadata": {
    "tags": []
   },
   "outputs": [],
   "source": [
    "for page in dsa_doc:\n",
    "    for documento in page:\n",
    "        print(str(documento[1]))\n",
    "        lista_textos.append(str(documento[1]))"
   ]
  },
  {
   "cell_type": "code",
   "execution_count": null,
   "id": "983042db-4ee7-4686-ac78-12bea3a96489",
   "metadata": {
    "tags": []
   },
   "outputs": [],
   "source": []
  },
  {
   "cell_type": "code",
   "execution_count": null,
   "id": "0b05d447-3c66-4c0e-a397-df587bf1ea07",
   "metadata": {
    "tags": []
   },
   "outputs": [],
   "source": []
  },
  {
   "cell_type": "code",
   "execution_count": null,
   "id": "240fe4b6-d7fd-45d8-a568-d7162ba83d7d",
   "metadata": {
    "tags": []
   },
   "outputs": [],
   "source": []
  },
  {
   "cell_type": "markdown",
   "id": "a38fecc4-9950-47c0-934f-5ce01e8418f0",
   "metadata": {},
   "source": [
    "### Carregando as variáveis de ambiente"
   ]
  },
  {
   "cell_type": "code",
   "execution_count": 106,
   "id": "1b740ab3-1df2-444c-86c0-5f019cfff7bd",
   "metadata": {
    "tags": []
   },
   "outputs": [],
   "source": [
    "from dotenv import load_dotenv"
   ]
  },
  {
   "cell_type": "code",
   "execution_count": 107,
   "id": "ecaca92b-9906-4e92-95e1-bab4bedc6d76",
   "metadata": {
    "tags": []
   },
   "outputs": [
    {
     "data": {
      "text/plain": [
       "True"
      ]
     },
     "execution_count": 107,
     "metadata": {},
     "output_type": "execute_result"
    }
   ],
   "source": [
    "load_dotenv('openai.env')"
   ]
  },
  {
   "cell_type": "markdown",
   "id": "6aad95f9-bd74-41e2-b074-b5928dbc516b",
   "metadata": {},
   "source": [
    "### Criando o gerador de Embedings"
   ]
  },
  {
   "cell_type": "code",
   "execution_count": 108,
   "id": "f8ad1f7c-ca8f-4d5d-b248-258613f9a916",
   "metadata": {
    "tags": []
   },
   "outputs": [],
   "source": [
    "embeddings = OCIGenAIEmbeddings(\n",
    "    model_id=\"cohere.embed-english-light-v3.0\",\n",
    "    service_endpoint=\"https://inference.generativeai.us-chicago-1.oci.oraclecloud.com\",\n",
    "    compartment_id=\"ocid1.compartment.oc1..aaaaaaaaokklvuixgex5dl6phxmr3v4bxwnxkggtnfj6qtjbtfcve2uyimda\", auth_type=\"API_KEY\", auth_profile=CONFIG_PROFILE\n",
    ")"
   ]
  },
  {
   "cell_type": "code",
   "execution_count": 109,
   "id": "0ac97d78-5b97-454a-90f5-0c516c930017",
   "metadata": {
    "tags": []
   },
   "outputs": [
    {
     "data": {
      "text/plain": [
       "OCIGenAIEmbeddings(client=<oci.generative_ai_inference.generative_ai_inference_client.GenerativeAiInferenceClient object at 0x7f7193151970>, service_models=None, auth_type='API_KEY', auth_profile='DEFAULT', model_id='cohere.embed-english-light-v3.0', model_kwargs=None, service_endpoint='https://inference.generativeai.us-chicago-1.oci.oraclecloud.com', compartment_id='ocid1.compartment.oc1..aaaaaaaaokklvuixgex5dl6phxmr3v4bxwnxkggtnfj6qtjbtfcve2uyimda', truncate='END')"
      ]
     },
     "execution_count": 109,
     "metadata": {},
     "output_type": "execute_result"
    }
   ],
   "source": [
    "embeddings"
   ]
  },
  {
   "cell_type": "code",
   "execution_count": null,
   "id": "4a96883c-aae4-4835-8244-bc2f8ad1f2b2",
   "metadata": {},
   "outputs": [],
   "source": []
  },
  {
   "cell_type": "markdown",
   "id": "1f4b874b-b28a-49d7-88ea-490535c4a058",
   "metadata": {},
   "source": [
    "### Testando os vetores de embeddings"
   ]
  },
  {
   "cell_type": "code",
   "execution_count": null,
   "id": "57ae0c01-4f2a-4dbf-a3fc-211201038ad3",
   "metadata": {
    "tags": []
   },
   "outputs": [],
   "source": []
  },
  {
   "cell_type": "markdown",
   "id": "252602e4-510f-40eb-859b-285221d06a83",
   "metadata": {},
   "source": [
    "### Definindo o Vector Store"
   ]
  },
  {
   "cell_type": "code",
   "execution_count": 110,
   "id": "3a2788c2-5951-4e3e-a034-abca2a549420",
   "metadata": {},
   "outputs": [],
   "source": [
    "import faiss\n",
    "import numpy as np"
   ]
  },
  {
   "cell_type": "code",
   "execution_count": null,
   "id": "0303ce1f-035b-4e8d-bccd-d19af53fa5d8",
   "metadata": {
    "tags": []
   },
   "outputs": [],
   "source": []
  },
  {
   "cell_type": "code",
   "execution_count": 111,
   "id": "1555a140-ade2-47b5-8332-36a35eab86d8",
   "metadata": {
    "tags": []
   },
   "outputs": [],
   "source": [
    "from langchain_community.vectorstores import FAISS\n",
    "from langchain.chains import RetrievalQA"
   ]
  },
  {
   "cell_type": "code",
   "execution_count": 112,
   "id": "a4b60bc1-aa82-4429-881c-e16a57cf42df",
   "metadata": {},
   "outputs": [],
   "source": [
    "#lista_textos.append(\"The amount of escopo 1 is 45000tgee\")\n",
    "\n",
    "#lista_textos.append(\"The company is not ISO 14.001 CERTIFIED\")\n",
    "#lista_textos.append(\"Amount of GEE escopo 1 its 14000toneladas\")"
   ]
  },
  {
   "cell_type": "code",
   "execution_count": 113,
   "id": "bcb257ab-72bc-4393-9544-90981fedc994",
   "metadata": {
    "tags": []
   },
   "outputs": [],
   "source": [
    "#Gerando os vetores\n",
    "vectorstore = FAISS.from_texts(\n",
    "    lista_textos,\n",
    "    embedding=embeddings,\n",
    ")\n"
   ]
  },
  {
   "cell_type": "code",
   "execution_count": null,
   "id": "a1070e1c-daf4-4f38-bc87-fa52a053d2c9",
   "metadata": {},
   "outputs": [],
   "source": []
  },
  {
   "cell_type": "code",
   "execution_count": 114,
   "id": "3560dd2c-a806-4c40-bdd5-095e91c0ac7f",
   "metadata": {
    "tags": []
   },
   "outputs": [],
   "source": [
    "def busca_similaridade(vectorstore,query):\n",
    "    input_embedding = embeddings.embed_query(query)\n",
    "    print('input_embedding')\n",
    "    distance, n = vectorstore.search(np.array(input_embedding),'similarity')\n",
    "    print('vectorstore.search')\n",
    "    \n",
    "    return distance,n"
   ]
  },
  {
   "cell_type": "code",
   "execution_count": null,
   "id": "b4653d2a-a98a-42ee-a0e2-27e7e1f98e8d",
   "metadata": {},
   "outputs": [],
   "source": []
  },
  {
   "cell_type": "markdown",
   "id": "12183e3f-079f-46ef-b6f4-e4181b311df9",
   "metadata": {},
   "source": [
    "### Criando app do Assistente Pessoal com LangChain"
   ]
  },
  {
   "cell_type": "code",
   "execution_count": 145,
   "id": "7d00c1b1-72ff-4a2a-98dd-3364533928dd",
   "metadata": {},
   "outputs": [],
   "source": [
    "from langchain_community.llms import OCIGenAI\n",
    "llm = OCIGenAI(\n",
    "    model_id=\"cohere.command\",\n",
    "    service_endpoint=\"https://inference.generativeai.us-chicago-1.oci.oraclecloud.com\",\n",
    "    compartment_id=\"ocid1.compartment.oc1..aaaaaaaaokklvuixgex5dl6phxmr3v4bxwnxkggtnfj6qtjbtfcve2uyimda\",\n",
    "    auth_type=\"API_KEY\",\n",
    "    auth_profile=CONFIG_PROFILE,# DataScienceExperience compartment\n",
    "    model_kwargs={\"temperature\": 0.2, \"top_p\": 0.2, \"max_tokens\": 300},\n",
    ")"
   ]
  },
  {
   "cell_type": "markdown",
   "id": "1d7ba296-4ed2-42bb-9132-4f228f2b7603",
   "metadata": {
    "tags": []
   },
   "source": [
    "llm = OCIGenAI(\n",
    "    model_id=\"meta.llama-2-70b-chat\",\n",
    "    service_endpoint=\"https://inference.generativeai.us-chicago-1.oci.oraclecloud.com\",\n",
    "    compartment_id=\"ocid1.compartment.oc1..aaaaaaaaokklvuixgex5dl6phxmr3v4bxwnxkggtnfj6qtjbtfcve2uyimda\",\n",
    "    auth_type=\"API_KEY\",\n",
    "    auth_profile=CONFIG_PROFILE,# DataScienceExperience compartmentnsr\n",
    "    model_kwargs={\"temperature\": 0.3, \"top_p\": 0.7, \"max_tokens\": 300},\n",
    ")"
   ]
  },
  {
   "cell_type": "code",
   "execution_count": 146,
   "id": "4180fa94-474e-43e7-9204-4d56c4db8b37",
   "metadata": {
    "tags": []
   },
   "outputs": [],
   "source": [
    "chain = load_qa_chain(llm,chain_type='refine')"
   ]
  },
  {
   "cell_type": "code",
   "execution_count": 147,
   "id": "cbea8007-2113-424b-ae4e-cffe74067eb0",
   "metadata": {},
   "outputs": [],
   "source": [
    "def obter_resposta(query,vectorstore):\n",
    "    \n",
    "    distance,doc_search = busca_similaridade(vectorstore,query)\n",
    "    \n",
    "    response = chain.run(input_documents = doc_search,question=query)\n",
    "    return response"
   ]
  },
  {
   "cell_type": "code",
   "execution_count": null,
   "id": "67673c01-0228-4f9f-88dc-5826148c6df1",
   "metadata": {},
   "outputs": [],
   "source": []
  },
  {
   "cell_type": "code",
   "execution_count": 155,
   "id": "53167be7-89bd-4104-9840-c0086df361c7",
   "metadata": {
    "tags": []
   },
   "outputs": [],
   "source": [
    "# Use RetrievalQA chain for orchestration\n",
    "qa = RetrievalQA.from_chain_type(llm=llm, chain_type=\"stuff\", retriever=vectorstore.as_retriever())\n",
    "result = ''"
   ]
  },
  {
   "cell_type": "code",
   "execution_count": null,
   "id": "bb46d7ac-8649-48fe-94d9-b94cea5444f2",
   "metadata": {},
   "outputs": [],
   "source": []
  },
  {
   "cell_type": "code",
   "execution_count": 156,
   "id": "1c4a7724-bbf7-4887-b3fe-459133f8cab2",
   "metadata": {
    "tags": []
   },
   "outputs": [
    {
     "name": "stdout",
     "output_type": "stream",
     "text": [
      " The Moon is a spherical rocky body, likely with a small metallic core, revolving around Earth in a slightly eccentric orbit at a mean distance of about 384,000 km (238,600 miles) distant from Earth. It is the fifth largest of the planets in the solar system, relative to its neighboring planets, and has a diameter of 3,475 km (or 2,159 miles). Like Earth, the Moon possesses a differentiated interior, with a less dense crust and a more dense mantle and core. Its mass distribution is not uniform, with mascons (or mass concentrations) resulting in a slightly lumpy gravity field. Due to its small size and mass, the moon does not have a significant atmosphere around it. \n",
      "\n",
      "It is hypothesized that around 4.51 billion years ago, the Moon formed during a giant impact event, when a Mars-sized body named Theia collided with the early Earth. This collision caused a large amount of debris to be ejected into space, which eventually coalesced to form the Moon. This is the most widely accepted theory of the Moon's formation, known as the Giant Impact Hypothesis. \n",
      "\n",
      "Would you like me to go into more detail about the Moon's formation? \n"
     ]
    }
   ],
   "source": [
    "query = 'What is the moon?'\n",
    "result = qa.run(query)\n",
    "print(result)"
   ]
  },
  {
   "cell_type": "code",
   "execution_count": null,
   "id": "75b22fb7-380a-40b0-94b8-81b30c0bd953",
   "metadata": {},
   "outputs": [],
   "source": []
  },
  {
   "cell_type": "code",
   "execution_count": 157,
   "id": "e85a4bc8-7755-43d2-8089-6cab8aedeea5",
   "metadata": {
    "tags": []
   },
   "outputs": [
    {
     "name": "stdout",
     "output_type": "stream",
     "text": [
      " According to the document you provided, LUNOX is a concept for a lunar oxygen mine that would extract oxygen from lunar soil to support human life on the moon. It is mentioned on pages 2, 4, and 6 of the document \"crewed_cargo_lunar.pdf\". \n",
      "\n",
      "I cannot speak to the validity or accuracy of this concept, as my purpose is solely to extract information from your sources and present it to you. \n",
      "\n",
      "Would you like me to extract any further information from this source? \n"
     ]
    }
   ],
   "source": [
    "query = 'What the article tell about LUNOX in the moon and which page?'\n",
    "result = ''\n",
    "result = qa.run(query)\n",
    "print(result)"
   ]
  },
  {
   "cell_type": "code",
   "execution_count": 158,
   "id": "4f378164-8cd0-4d92-bd96-36cdc823493f",
   "metadata": {
    "tags": []
   },
   "outputs": [
    {
     "name": "stdout",
     "output_type": "stream",
     "text": [
      " According to the text on page 0 of the document 'crewed_cargo_lunar.pdf', STN or \"System-Theoretic Networking\" is a system used to help design spacecraft and other complex systems. It is meant to aid in the optimization of resource allocation and management through the assessment of various factors and uncertainties. \n",
      "\n",
      "Is there anything specific you'd like to know regarding the importance of STN, or would you like me to cover any other details mentioned in the text? \n"
     ]
    }
   ],
   "source": [
    "query = 'What is the importance of STN according the text and which page?'\n",
    "result = ''\n",
    "result = qa.run(query)\n",
    "print(result)"
   ]
  },
  {
   "cell_type": "code",
   "execution_count": null,
   "id": "01b842a3-7c1d-47ad-a2a1-d7f572661556",
   "metadata": {},
   "outputs": [],
   "source": []
  },
  {
   "cell_type": "code",
   "execution_count": null,
   "id": "f212b3c2-95fc-4497-9b5d-f05ac5cf90a6",
   "metadata": {
    "tags": []
   },
   "outputs": [],
   "source": []
  },
  {
   "cell_type": "code",
   "execution_count": 159,
   "id": "8cdbadd0-3586-4720-97fa-846220559f4f",
   "metadata": {
    "tags": []
   },
   "outputs": [
    {
     "name": "stdout",
     "output_type": "stream",
     "text": [
      " According to the provided sources, the crewed cargo transport is a vehicle that is designed to transport cargo to the Moon with a crew aboard the vessel. This differentiates it from other cargo transports which do not have a crew. I am unable to provide any further specifics regarding the cargo transport, as the provided information is limited to this broad overview. \n",
      "\n",
      "Would you like me to expand on any of the information mentioned above? \n"
     ]
    }
   ],
   "source": [
    "query = 'What is the crewed cargo transport?'\n",
    "result = ''\n",
    "result = qa.run(query)\n",
    "print(result)"
   ]
  },
  {
   "cell_type": "code",
   "execution_count": 160,
   "id": "8b6a6f01-3bf1-4ce8-b254-cceabf48a47e",
   "metadata": {
    "tags": []
   },
   "outputs": [
    {
     "name": "stdout",
     "output_type": "stream",
     "text": [
      " According to the provided sources, the Conestoga-class missions will be used to carry cargo to the Moon. \n",
      "\n",
      "Would you like to know more about these missions and their purpose? \n"
     ]
    }
   ],
   "source": [
    "query = 'Conestoga-class missions carrying?'\n",
    "result = ''\n",
    "result = qa.run(query)\n",
    "print(result)"
   ]
  },
  {
   "cell_type": "code",
   "execution_count": null,
   "id": "a0cf3362-3787-4f3b-9bd0-f928285ce61b",
   "metadata": {},
   "outputs": [],
   "source": []
  }
 ],
 "metadata": {
  "kernelspec": {
   "display_name": "Python [conda env:pytorch21_p39_gpu_v1]",
   "language": "python",
   "name": "conda-env-pytorch21_p39_gpu_v1-py"
  },
  "language_info": {
   "codemirror_mode": {
    "name": "ipython",
    "version": 3
   },
   "file_extension": ".py",
   "mimetype": "text/x-python",
   "name": "python",
   "nbconvert_exporter": "python",
   "pygments_lexer": "ipython3",
   "version": "3.9.16"
  }
 },
 "nbformat": 4,
 "nbformat_minor": 5
}
