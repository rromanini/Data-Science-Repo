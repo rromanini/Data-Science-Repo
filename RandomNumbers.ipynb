{
 "cells": [
  {
   "cell_type": "markdown",
   "id": "f8190481",
   "metadata": {},
   "source": [
    "### OCI Data Science - Useful Tips\n",
    "<details>\n",
    "<summary><font size=\"2\">Check for Public Internet Access</font></summary>\n",
    "\n",
    "```python\n",
    "import requests\n",
    "response = requests.get(\"https://oracle.com\")\n",
    "assert response.status_code==200, \"Internet connection failed\"\n",
    "```\n",
    "</details>\n",
    "<details>\n",
    "<summary><font size=\"2\">Helpful Documentation </font></summary>\n",
    "<ul><li><a href=\"https://docs.cloud.oracle.com/en-us/iaas/data-science/using/data-science.htm\">Data Science Service Documentation</a></li>\n",
    "<li><a href=\"https://docs.cloud.oracle.com/iaas/tools/ads-sdk/latest/index.html\">ADS documentation</a></li>\n",
    "</ul>\n",
    "</details>\n",
    "<details>\n",
    "<summary><font size=\"2\">Typical Cell Imports and Settings for ADS</font></summary>\n",
    "\n",
    "```python\n",
    "%load_ext autoreload\n",
    "%autoreload 2\n",
    "%matplotlib inline\n",
    "\n",
    "import warnings\n",
    "warnings.filterwarnings('ignore')\n",
    "\n",
    "import logging\n",
    "logging.basicConfig(format='%(levelname)s:%(message)s', level=logging.ERROR)\n",
    "\n",
    "import ads\n",
    "from ads.dataset.factory import DatasetFactory\n",
    "from ads.automl.provider import OracleAutoMLProvider\n",
    "from ads.automl.driver import AutoML\n",
    "from ads.evaluations.evaluator import ADSEvaluator\n",
    "from ads.common.data import ADSData\n",
    "from ads.explanations.explainer import ADSExplainer\n",
    "from ads.explanations.mlx_global_explainer import MLXGlobalExplainer\n",
    "from ads.explanations.mlx_local_explainer import MLXLocalExplainer\n",
    "from ads.catalog.model import ModelCatalog\n",
    "from ads.common.model_artifact import ModelArtifact\n",
    "```\n",
    "</details>\n",
    "<details>\n",
    "<summary><font size=\"2\">Useful Environment Variables</font></summary>\n",
    "\n",
    "```python\n",
    "import os\n",
    "print(os.environ[\"NB_SESSION_COMPARTMENT_OCID\"])\n",
    "print(os.environ[\"PROJECT_OCID\"])\n",
    "print(os.environ[\"USER_OCID\"])\n",
    "print(os.environ[\"TENANCY_OCID\"])\n",
    "print(os.environ[\"NB_REGION\"])\n",
    "```\n",
    "</details>"
   ]
  },
  {
   "cell_type": "markdown",
   "id": "46fb317a",
   "metadata": {},
   "source": [
    "## Linear congruential generator"
   ]
  },
  {
   "cell_type": "code",
   "execution_count": 1,
   "id": "cbfc0004",
   "metadata": {},
   "outputs": [],
   "source": [
    "import numpy as np"
   ]
  },
  {
   "cell_type": "code",
   "execution_count": 2,
   "id": "fa93e698",
   "metadata": {},
   "outputs": [],
   "source": [
    "a = 2\n",
    "c = 4\n",
    "m = 5\n",
    "x = 3"
   ]
  },
  {
   "cell_type": "code",
   "execution_count": 3,
   "id": "733a1195",
   "metadata": {},
   "outputs": [
    {
     "name": "stdout",
     "output_type": "stream",
     "text": [
      "0\n",
      "4\n",
      "2\n",
      "3\n",
      "0\n",
      "4\n",
      "2\n",
      "3\n",
      "0\n",
      "4\n",
      "2\n",
      "3\n",
      "0\n",
      "4\n",
      "2\n",
      "3\n"
     ]
    }
   ],
   "source": [
    "for i in range (1,17):\n",
    "\n",
    "    x= np.mod((a*x+c), m)\n",
    "\n",
    "    print(x)"
   ]
  },
  {
   "cell_type": "code",
   "execution_count": 14,
   "id": "03d8a0a6",
   "metadata": {},
   "outputs": [
    {
     "name": "stdout",
     "output_type": "stream",
     "text": [
      "3.4924596564343477e-09\n",
      "2.619344742325761e-07\n",
      "1.9645085567443206e-05\n",
      "0.0014733814175582405\n",
      "0.11050360631686804\n",
      "0.28777047376510245\n",
      "0.5827855323826827\n",
      "0.708914928701201\n",
      "0.1686196525900716\n",
      "0.6464739442553715\n",
      "0.48554581915286643\n",
      "0.41593643646498046\n",
      "0.1952327348735336\n",
      "0.6424551155150193\n",
      "0.18413366362644995\n",
      "0.8100247719837468\n",
      "0.75185789878101\n",
      "0.3893424085757427\n",
      "0.20068064318070217\n",
      "0.051048238552663584\n",
      "0.8286178914497689\n",
      "0.14634185873267327\n",
      "0.9756394049504955\n",
      "0.17295537128716493\n",
      "0.9716528465373687\n",
      "0.8739634903026575\n",
      "0.5472617726993103\n",
      "0.044632952448275386\n",
      "0.3474714336206538\n",
      "0.06035752154903371\n",
      "0.5268141161775283\n",
      "0.5110587133146165\n",
      "0.329403498596234\n",
      "0.705262394717551\n",
      "0.8946796038163265\n",
      "0.10097028622448924\n",
      "0.5727714668366926\n",
      "0.9578600127519388\n",
      "0.8395009563954086\n",
      "0.9625717296556437\n",
      "0.19287972417328494\n",
      "0.4659793129963704\n",
      "0.9484484747277798\n",
      "0.13363560458348858\n",
      "0.022670343761644486\n",
      "0.7002757821233365\n",
      "0.5206836592502351\n",
      "0.05127444376762698\n",
      "0.8455832825720232\n",
      "0.41874619290174275\n",
      "0.4059644676307051\n",
      "0.4473350723028812\n",
      "0.5501304227160897\n",
      "0.2597817037067291\n",
      "0.4836277780046816\n",
      "0.27208335035111914\n",
      "0.4062512763339334\n",
      "0.46884572504500194\n",
      "0.16342937837514532\n",
      "0.2572033781358988\n",
      "0.29025336019240944\n",
      "0.7690020144307064\n",
      "0.6751510823029797\n",
      "0.6363311727234773\n",
      "0.7248379542607991\n",
      "0.3628465695599311\n",
      "0.21349271699483166\n",
      "0.01195377461237543\n",
      "0.8965330959281572\n",
      "0.2399821946117944\n",
      "0.9986645958845805\n",
      "0.8998446913435332\n",
      "0.48835185076498977\n",
      "0.6263888073742337\n",
      "0.9791605530675317\n",
      "0.4370414800648771\n",
      "0.77811100486578\n",
      "0.3583253649335007\n",
      "0.8744023700125526\n",
      "0.5801777509414487\n",
      "0.5133313206086547\n",
      "0.4998490456491006\n",
      "0.48867842368254366\n",
      "0.6508817761907735\n",
      "0.816133214308011\n",
      "0.2099910731008235\n",
      "0.7493304825617608\n",
      "0.1997861921320605\n",
      "0.9839644099045379\n",
      "0.7973307428403436\n",
      "0.7998057130257625\n",
      "0.9854284769321925\n",
      "0.9071357699144332\n",
      "0.03518274358249397\n",
      "0.6387057686870479\n",
      "0.9029326515285916\n",
      "0.7199488646443695\n",
      "0.9961648483277135\n",
      "0.7123636245785112\n"
     ]
    }
   ],
   "source": [
    "import numpy as np\n",
    "\n",
    "a = 75\n",
    "\n",
    "c = 0\n",
    "\n",
    "m = 2**(31) -1\n",
    "\n",
    "x = 0.1\n",
    "u = 0\n",
    "for i in range(1,100):\n",
    "    x = np.mod((a*x + c ),m)\n",
    "    u = x / m\n",
    "    print(u)"
   ]
  },
  {
   "cell_type": "code",
   "execution_count": null,
   "id": "9765ec61",
   "metadata": {},
   "outputs": [],
   "source": []
  },
  {
   "cell_type": "markdown",
   "id": "b8f94d18",
   "metadata": {},
   "source": [
    "# Lagged Fibonacci generator"
   ]
  },
  {
   "cell_type": "code",
   "execution_count": 16,
   "id": "aaef0d10",
   "metadata": {},
   "outputs": [],
   "source": [
    "import numpy as np"
   ]
  },
  {
   "cell_type": "code",
   "execution_count": 34,
   "id": "78b0dfe1",
   "metadata": {},
   "outputs": [],
   "source": [
    "x=0\n",
    "x0=1\n",
    "x1=1\n",
    "m=2**32"
   ]
  },
  {
   "cell_type": "code",
   "execution_count": 35,
   "id": "ebf2d2a5",
   "metadata": {},
   "outputs": [
    {
     "name": "stdout",
     "output_type": "stream",
     "text": [
      "2\n",
      "3\n",
      "5\n",
      "8\n",
      "13\n",
      "21\n",
      "34\n",
      "55\n",
      "89\n",
      "144\n",
      "233\n",
      "377\n",
      "610\n",
      "987\n",
      "1597\n",
      "2584\n",
      "4181\n",
      "6765\n",
      "10946\n",
      "17711\n",
      "28657\n",
      "46368\n",
      "75025\n",
      "121393\n",
      "196418\n",
      "317811\n",
      "514229\n",
      "832040\n",
      "1346269\n",
      "2178309\n",
      "3524578\n",
      "5702887\n",
      "9227465\n",
      "14930352\n",
      "24157817\n",
      "39088169\n",
      "63245986\n",
      "102334155\n",
      "165580141\n",
      "267914296\n",
      "433494437\n",
      "701408733\n",
      "1134903170\n",
      "1836311903\n",
      "2971215073\n",
      "512559680\n",
      "3483774753\n",
      "3996334433\n",
      "3185141890\n",
      "2886509027\n",
      "1776683621\n",
      "368225352\n",
      "2144908973\n",
      "2513134325\n",
      "363076002\n",
      "2876210327\n",
      "3239286329\n",
      "1820529360\n",
      "764848393\n",
      "2585377753\n",
      "3350226146\n",
      "1640636603\n",
      "695895453\n",
      "2336532056\n",
      "3032427509\n",
      "1073992269\n",
      "4106419778\n",
      "885444751\n",
      "696897233\n",
      "1582341984\n",
      "2279239217\n",
      "3861581201\n",
      "1845853122\n",
      "1412467027\n",
      "3258320149\n",
      "375819880\n",
      "3634140029\n",
      "4009959909\n",
      "3349132642\n",
      "3064125255\n",
      "2118290601\n",
      "887448560\n",
      "3005739161\n",
      "3893187721\n",
      "2603959586\n",
      "2202180011\n",
      "511172301\n",
      "2713352312\n",
      "3224524613\n",
      "1642909629\n",
      "572466946\n",
      "2215376575\n",
      "2787843521\n",
      "708252800\n",
      "3496096321\n",
      "4204349121\n",
      "3405478146\n",
      "3314859971\n",
      "2425370821\n",
      "1445263496\n"
     ]
    }
   ],
   "source": [
    "for i in range (1,101):\n",
    "    x = np.mod((x0+x1), m)\n",
    "    x0 = x1\n",
    "    x1 = x\n",
    "    print(x)"
   ]
  },
  {
   "cell_type": "code",
   "execution_count": null,
   "id": "89eda833",
   "metadata": {},
   "outputs": [],
   "source": []
  },
  {
   "cell_type": "markdown",
   "id": "f4dd5488",
   "metadata": {},
   "source": [
    "## Random Module"
   ]
  },
  {
   "cell_type": "code",
   "execution_count": 36,
   "id": "b6071e97",
   "metadata": {},
   "outputs": [],
   "source": [
    "import random"
   ]
  },
  {
   "cell_type": "code",
   "execution_count": 49,
   "id": "fadbacac",
   "metadata": {},
   "outputs": [
    {
     "name": "stdout",
     "output_type": "stream",
     "text": [
      "0.1344 \n",
      "0.8474 \n",
      "0.7638 \n",
      "0.2551 \n",
      "0.4954 \n"
     ]
    }
   ],
   "source": [
    "random.seed(1)\n",
    "for i in range(5):\n",
    "    print('%05.4f' % random.random(), end=' ')\n",
    "    print()"
   ]
  },
  {
   "cell_type": "code",
   "execution_count": 51,
   "id": "dbb5d9bb",
   "metadata": {},
   "outputs": [
    {
     "name": "stdout",
     "output_type": "stream",
     "text": [
      "28.7250 \n",
      "28.4870 \n",
      "2.6400 \n",
      "3.4613 \n",
      "25.2295 \n"
     ]
    }
   ],
   "source": [
    "random.seed(2)\n",
    "for i in range(5):\n",
    "    print('%05.4f' % random.uniform(1,30), end=' ')\n",
    "    print()"
   ]
  },
  {
   "cell_type": "code",
   "execution_count": 52,
   "id": "f5589df0",
   "metadata": {},
   "outputs": [
    {
     "name": "stdout",
     "output_type": "stream",
     "text": [
      "8.0000 \n",
      "19.0000 \n",
      "18.0000 \n",
      "5.0000 \n",
      "12.0000 \n"
     ]
    }
   ],
   "source": [
    "random.seed(3)\n",
    "for i in range(5):\n",
    "    print('%05.4f' % random.randint(1,30), end=' ')\n",
    "    print()"
   ]
  },
  {
   "cell_type": "code",
   "execution_count": 54,
   "id": "da765e66",
   "metadata": {},
   "outputs": [
    {
     "name": "stdout",
     "output_type": "stream",
     "text": [
      "31.0000 \n",
      "91.0000 \n",
      "81.0000 \n",
      "21.0000 \n",
      "51.0000 \n"
     ]
    }
   ],
   "source": [
    "random.seed(3)\n",
    "for i in range(5):\n",
    "    print('%05.4f' % random.randrange(1,100,10), end=' ')\n",
    "    print()"
   ]
  },
  {
   "cell_type": "code",
   "execution_count": 56,
   "id": "94306c4f",
   "metadata": {},
   "outputs": [],
   "source": [
    "import random\n",
    "CitiesList = ['Rome','New York','London','Berlin','Moskov', 'Los Angeles','Paris','Madrid','Tokio','Toronto']"
   ]
  },
  {
   "cell_type": "code",
   "execution_count": 62,
   "id": "d3c7a8f6",
   "metadata": {},
   "outputs": [
    {
     "name": "stdout",
     "output_type": "stream",
     "text": [
      "Randomly selected item from Cities list is -  London\n",
      "Randomly selected item from Cities list is -  Toronto\n",
      "Randomly selected item from Cities list is -  Rome\n"
     ]
    }
   ],
   "source": [
    "for i in range(3):\n",
    "    CitiesItem = random.choice(CitiesList)\n",
    "    print (\"Randomly selected item from Cities list is - \", CitiesItem)"
   ]
  },
  {
   "cell_type": "code",
   "execution_count": null,
   "id": "e130c40d",
   "metadata": {},
   "outputs": [],
   "source": []
  },
  {
   "cell_type": "code",
   "execution_count": 63,
   "id": "6e798d4c",
   "metadata": {},
   "outputs": [],
   "source": [
    "import random\n",
    "DataList = range(10,100,10)"
   ]
  },
  {
   "cell_type": "code",
   "execution_count": 66,
   "id": "d3bb18c5",
   "metadata": {},
   "outputs": [
    {
     "name": "stdout",
     "output_type": "stream",
     "text": [
      "Initial Data List =  range(10, 100, 10)\n",
      "Sample Data List =  [80, 30, 90, 10, 60]\n"
     ]
    }
   ],
   "source": [
    "print(\"Initial Data List = \",DataList)\n",
    "DataSample = random.sample(DataList,k=5)\n",
    "print(\"Sample Data List = \",DataSample)"
   ]
  },
  {
   "cell_type": "code",
   "execution_count": null,
   "id": "24170fae",
   "metadata": {},
   "outputs": [],
   "source": []
  },
  {
   "cell_type": "markdown",
   "id": "29ad3b4d",
   "metadata": {},
   "source": [
    "## Betavariate"
   ]
  },
  {
   "cell_type": "markdown",
   "id": "afcfae40",
   "metadata": {},
   "source": [
    "https://en.wikipedia.org/wiki/Beta_distribution"
   ]
  },
  {
   "cell_type": "code",
   "execution_count": 86,
   "id": "5fc15174",
   "metadata": {},
   "outputs": [],
   "source": [
    "import random\n",
    "import matplotlib.pyplot as plt"
   ]
  },
  {
   "cell_type": "code",
   "execution_count": 87,
   "id": "00b5ffc9",
   "metadata": {},
   "outputs": [],
   "source": [
    "nums=[]"
   ]
  },
  {
   "cell_type": "code",
   "execution_count": 88,
   "id": "ea6fd023",
   "metadata": {},
   "outputs": [],
   "source": [
    "for i in range(300):\n",
    "    num = random.betavariate(alpha=5,beta=10)\n",
    "    nums.append(num)"
   ]
  },
  {
   "cell_type": "code",
   "execution_count": 90,
   "id": "7ed79d7b",
   "metadata": {},
   "outputs": [
    {
     "data": {
      "image/png": "[encoded data removed]",
      "text/plain": [
       "<Figure size 640x480 with 1 Axes>"
      ]
     },
     "metadata": {},
     "output_type": "display_data"
    }
   ],
   "source": [
    "plt.hist(nums, bins = 100) \n",
    "plt.show()"
   ]
  },
  {
   "cell_type": "code",
   "execution_count": null,
   "id": "bd3ad75d",
   "metadata": {},
   "outputs": [],
   "source": []
  },
  {
   "cell_type": "markdown",
   "id": "62061dd5",
   "metadata": {},
   "source": [
    "## Expovariate"
   ]
  },
  {
   "cell_type": "code",
   "execution_count": 103,
   "id": "545f832c",
   "metadata": {},
   "outputs": [],
   "source": [
    "import random\n",
    "import matplotlib.pyplot as plt"
   ]
  },
  {
   "cell_type": "code",
   "execution_count": 104,
   "id": "6626d71b",
   "metadata": {},
   "outputs": [],
   "source": [
    "nums=[]"
   ]
  },
  {
   "cell_type": "code",
   "execution_count": 105,
   "id": "73e8f21a",
   "metadata": {},
   "outputs": [],
   "source": [
    "for i in range(3000):\n",
    "    num = random.expovariate(lambd=4)\n",
    "    nums.append(num)"
   ]
  },
  {
   "cell_type": "code",
   "execution_count": 108,
   "id": "daaa4283",
   "metadata": {},
   "outputs": [
    {
     "data": {
      "image/png": "[encoded data removed]",
      "text/plain": [
       "<Figure size 640x480 with 1 Axes>"
      ]
     },
     "metadata": {},
     "output_type": "display_data"
    }
   ],
   "source": [
    "plt.hist(nums, bins = 100) \n",
    "plt.show()"
   ]
  },
  {
   "cell_type": "code",
   "execution_count": null,
   "id": "bf9da75a",
   "metadata": {},
   "outputs": [],
   "source": []
  },
  {
   "cell_type": "markdown",
   "id": "558638bf",
   "metadata": {},
   "source": [
    "## Gamma Variate"
   ]
  },
  {
   "cell_type": "code",
   "execution_count": 96,
   "id": "a8cf6fde",
   "metadata": {},
   "outputs": [],
   "source": [
    "import random\n",
    "import matplotlib.pyplot as plt"
   ]
  },
  {
   "cell_type": "code",
   "execution_count": 109,
   "id": "890e4a9d",
   "metadata": {},
   "outputs": [],
   "source": [
    "nums=[]"
   ]
  },
  {
   "cell_type": "code",
   "execution_count": 112,
   "id": "f04d1d05",
   "metadata": {},
   "outputs": [],
   "source": [
    "for i in range(3000):\n",
    "    num = random.gammavariate(alpha=9,beta=0.5)\n",
    "    nums.append(num)"
   ]
  },
  {
   "cell_type": "code",
   "execution_count": 113,
   "id": "edbebe2c",
   "metadata": {},
   "outputs": [
    {
     "data": {
      "image/png": "[encoded data removed]",
      "text/plain": [
       "<Figure size 640x480 with 1 Axes>"
      ]
     },
     "metadata": {},
     "output_type": "display_data"
    }
   ],
   "source": [
    "plt.hist(nums, bins = 100) \n",
    "plt.show()"
   ]
  },
  {
   "cell_type": "code",
   "execution_count": null,
   "id": "ccad20c3",
   "metadata": {},
   "outputs": [],
   "source": []
  },
  {
   "cell_type": "markdown",
   "id": "2538772f",
   "metadata": {},
   "source": [
    "## Gauss"
   ]
  },
  {
   "cell_type": "code",
   "execution_count": 119,
   "id": "36f0a5ca",
   "metadata": {},
   "outputs": [],
   "source": [
    "import random\n",
    "import matplotlib.pyplot as plt"
   ]
  },
  {
   "cell_type": "code",
   "execution_count": 120,
   "id": "1c42de19",
   "metadata": {},
   "outputs": [],
   "source": [
    "nums=[]"
   ]
  },
  {
   "cell_type": "code",
   "execution_count": 121,
   "id": "b5e80557",
   "metadata": {},
   "outputs": [],
   "source": [
    "for i in range(3000):\n",
    "    num = random.gauss(mu=300,sigma=20)\n",
    "    nums.append(num)"
   ]
  },
  {
   "cell_type": "code",
   "execution_count": 122,
   "id": "c69d1ac2",
   "metadata": {},
   "outputs": [
    {
     "data": {
      "image/png": "[encoded data removed]",
      "text/plain": [
       "<Figure size 640x480 with 1 Axes>"
      ]
     },
     "metadata": {},
     "output_type": "display_data"
    }
   ],
   "source": [
    "plt.hist(nums, bins = 100) \n",
    "plt.show()"
   ]
  },
  {
   "cell_type": "code",
   "execution_count": null,
   "id": "8f71dd95",
   "metadata": {},
   "outputs": [],
   "source": []
  },
  {
   "cell_type": "markdown",
   "id": "61302246",
   "metadata": {},
   "source": [
    "## Lognormvariate"
   ]
  },
  {
   "cell_type": "code",
   "execution_count": 123,
   "id": "9930d8d2",
   "metadata": {},
   "outputs": [],
   "source": [
    "import random\n",
    "import matplotlib.pyplot as plt"
   ]
  },
  {
   "cell_type": "code",
   "execution_count": 128,
   "id": "76dbe81e",
   "metadata": {},
   "outputs": [],
   "source": [
    "nums=[]"
   ]
  },
  {
   "cell_type": "code",
   "execution_count": 129,
   "id": "a14b731d",
   "metadata": {},
   "outputs": [],
   "source": [
    "for i in range(3000):\n",
    "    num = random.lognormvariate(mu=0,sigma=0.20)\n",
    "    nums.append(num)"
   ]
  },
  {
   "cell_type": "code",
   "execution_count": 130,
   "id": "ef0a4c12",
   "metadata": {},
   "outputs": [
    {
     "data": {
      "image/png": "[encoded data removed]",
      "text/plain": [
       "<Figure size 640x480 with 1 Axes>"
      ]
     },
     "metadata": {},
     "output_type": "display_data"
    }
   ],
   "source": [
    "plt.hist(nums, bins = 100) \n",
    "plt.show()"
   ]
  },
  {
   "cell_type": "code",
   "execution_count": null,
   "id": "43fcb2c5",
   "metadata": {},
   "outputs": [],
   "source": []
  },
  {
   "cell_type": "markdown",
   "id": "f4962b37",
   "metadata": {},
   "source": [
    "## Normvariate"
   ]
  },
  {
   "cell_type": "code",
   "execution_count": 132,
   "id": "0e1ce3d1",
   "metadata": {},
   "outputs": [],
   "source": [
    "import random\n",
    "import matplotlib.pyplot as plt"
   ]
  },
  {
   "cell_type": "code",
   "execution_count": 133,
   "id": "763cc434",
   "metadata": {},
   "outputs": [],
   "source": [
    "nums=[]"
   ]
  },
  {
   "cell_type": "code",
   "execution_count": 134,
   "id": "2aec9bb3",
   "metadata": {},
   "outputs": [],
   "source": [
    "for i in range(3000):\n",
    "    num = random.normalvariate(mu=0,sigma=0.20)\n",
    "    nums.append(num)"
   ]
  },
  {
   "cell_type": "code",
   "execution_count": 135,
   "id": "c569c9a8",
   "metadata": {},
   "outputs": [
    {
     "data": {
      "image/png": "[encoded data removed]",
      "text/plain": [
       "<Figure size 640x480 with 1 Axes>"
      ]
     },
     "metadata": {},
     "output_type": "display_data"
    }
   ],
   "source": [
    "plt.hist(nums, bins = 100) \n",
    "plt.show()"
   ]
  },
  {
   "cell_type": "code",
   "execution_count": null,
   "id": "03c06b2a",
   "metadata": {},
   "outputs": [],
   "source": []
  },
  {
   "cell_type": "markdown",
   "id": "aa1d6f57",
   "metadata": {},
   "source": [
    "## vonmisesvariate "
   ]
  },
  {
   "cell_type": "code",
   "execution_count": 141,
   "id": "721bc313",
   "metadata": {},
   "outputs": [],
   "source": [
    "import random\n",
    "import matplotlib.pyplot as plt"
   ]
  },
  {
   "cell_type": "code",
   "execution_count": 142,
   "id": "851bfb43",
   "metadata": {},
   "outputs": [],
   "source": [
    "nums=[]"
   ]
  },
  {
   "cell_type": "code",
   "execution_count": 143,
   "id": "b574e5c8",
   "metadata": {},
   "outputs": [],
   "source": [
    "for i in range(3000):\n",
    "    num = random.vonmisesvariate(mu=0,kappa=4)\n",
    "    nums.append(num)"
   ]
  },
  {
   "cell_type": "code",
   "execution_count": 144,
   "id": "77cfb0bc",
   "metadata": {},
   "outputs": [
    {
     "data": {
      "image/png": "[encoded data removed]",
      "text/plain": [
       "<Figure size 640x480 with 1 Axes>"
      ]
     },
     "metadata": {},
     "output_type": "display_data"
    }
   ],
   "source": [
    "plt.hist(nums, bins = 100) \n",
    "plt.show()"
   ]
  },
  {
   "cell_type": "code",
   "execution_count": null,
   "id": "3e795e0f",
   "metadata": {},
   "outputs": [],
   "source": []
  },
  {
   "cell_type": "markdown",
   "id": "374b2a53",
   "metadata": {},
   "source": [
    "## Paretovariate"
   ]
  },
  {
   "cell_type": "code",
   "execution_count": 146,
   "id": "efea1542",
   "metadata": {},
   "outputs": [],
   "source": [
    "import random\n",
    "import matplotlib.pyplot as plt"
   ]
  },
  {
   "cell_type": "code",
   "execution_count": 147,
   "id": "e567e570",
   "metadata": {},
   "outputs": [],
   "source": [
    "nums=[]"
   ]
  },
  {
   "cell_type": "code",
   "execution_count": 148,
   "id": "93ee8ef8",
   "metadata": {},
   "outputs": [],
   "source": [
    "for i in range(3000):\n",
    "    num = random.paretovariate(alpha=100)\n",
    "    nums.append(num)"
   ]
  },
  {
   "cell_type": "code",
   "execution_count": 149,
   "id": "a933aaf6",
   "metadata": {},
   "outputs": [
    {
     "data": {
      "image/png": "[encoded data removed]",
      "text/plain": [
       "<Figure size 640x480 with 1 Axes>"
      ]
     },
     "metadata": {},
     "output_type": "display_data"
    }
   ],
   "source": [
    "plt.hist(nums, bins = 100) \n",
    "plt.show()"
   ]
  },
  {
   "cell_type": "code",
   "execution_count": null,
   "id": "7637e2fa",
   "metadata": {},
   "outputs": [],
   "source": []
  },
  {
   "cell_type": "markdown",
   "id": "3b94d8a9",
   "metadata": {},
   "source": [
    "## weibullvariate "
   ]
  },
  {
   "cell_type": "code",
   "execution_count": 150,
   "id": "4de658b0",
   "metadata": {},
   "outputs": [],
   "source": [
    "import random\n",
    "import matplotlib.pyplot as plt"
   ]
  },
  {
   "cell_type": "code",
   "execution_count": 151,
   "id": "46b2518f",
   "metadata": {},
   "outputs": [],
   "source": [
    "nums=[]"
   ]
  },
  {
   "cell_type": "code",
   "execution_count": 152,
   "id": "6a884356",
   "metadata": {},
   "outputs": [],
   "source": [
    "for i in range(3000):\n",
    "    num = random.weibullvariate(alpha=1,beta=1.5)\n",
    "    nums.append(num)"
   ]
  },
  {
   "cell_type": "code",
   "execution_count": 153,
   "id": "f25e4a28",
   "metadata": {},
   "outputs": [
    {
     "data": {
      "image/png": "[encoded data removed]",
      "text/plain": [
       "<Figure size 640x480 with 1 Axes>"
      ]
     },
     "metadata": {},
     "output_type": "display_data"
    }
   ],
   "source": [
    "plt.hist(nums, bins = 100) \n",
    "plt.show()"
   ]
  },
  {
   "cell_type": "code",
   "execution_count": null,
   "id": "3ca5f873",
   "metadata": {},
   "outputs": [],
   "source": []
  }
 ],
 "metadata": {
  "kernelspec": {
   "display_name": "Python [conda env:root] *",
   "language": "python",
   "name": "conda-root-py"
  },
  "language_info": {
   "codemirror_mode": {
    "name": "ipython",
    "version": 3
   },
   "file_extension": ".py",
   "mimetype": "text/x-python",
   "name": "python",
   "nbconvert_exporter": "python",
   "pygments_lexer": "ipython3",
   "version": "3.7.10"
  }
 },
 "nbformat": 4,
 "nbformat_minor": 5
}
