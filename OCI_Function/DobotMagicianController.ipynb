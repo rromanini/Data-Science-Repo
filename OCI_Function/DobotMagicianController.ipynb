{
 "cells": [
  {
   "attachments": {},
   "cell_type": "markdown",
   "metadata": {},
   "source": [
    "Automação com pydobot"
   ]
  },
  {
   "cell_type": "code",
   "execution_count": 1,
   "metadata": {},
   "outputs": [],
   "source": [
    "#pip install pydobot\n",
    "#pip install oci\n",
    "#pip install ads\n",
    "#pip install oracle-ads\n",
    "#pip install oracle-ads[data]\n",
    "#pip install oracle-ads[geo]\n",
    "#pip install --ignore-installed Pillow==9.0.0\n",
    "#pip install cx_Oracle \n",
    "#pip install oracledb\n",
    "#pip install requests\n",
    "#pip install pipenv\n",
    "#pip install shell\n",
    "#pip install opencv-python\n"
   ]
  },
  {
   "cell_type": "code",
   "execution_count": 2,
   "metadata": {},
   "outputs": [],
   "source": [
    "\n",
    "#device.close()"
   ]
  },
  {
   "cell_type": "code",
   "execution_count": 3,
   "metadata": {},
   "outputs": [],
   "source": [
    "#token OCI Functions\n",
    "#token=LnDOiyJe9P#:FGEfB04+"
   ]
  },
  {
   "cell_type": "code",
   "execution_count": 1,
   "metadata": {},
   "outputs": [],
   "source": [
    "from serial.tools import list_ports\n",
    "import pydobot\n",
    "import oci\n",
    "import requests\n",
    "import json\n",
    "from oci.config import from_file\n",
    "from oci.signer import Signer\n",
    "import time\n",
    "from datetime import datetime\n",
    "import cv2\n",
    "import base64"
   ]
  },
  {
   "cell_type": "code",
   "execution_count": 2,
   "metadata": {},
   "outputs": [],
   "source": [
    "\n",
    "port = list_ports.comports()[0].device\n",
    "device = pydobot.Dobot(port=port, verbose=False)\n",
    "\n"
   ]
  },
  {
   "cell_type": "code",
   "execution_count": 16,
   "metadata": {},
   "outputs": [
    {
     "name": "stdout",
     "output_type": "stream",
     "text": [
      "homeX:154.7767791748047 homeY:-29.821788787841797 homeZ:-15.647041320800781 j1:-10.905881881713867 j2:23.017704010009766 j3:72.118408203125 j4:0.0\n",
      "r:-10.905881881713867\n"
     ]
    }
   ],
   "source": [
    "velocity = 200\n",
    "acceleration = 200\n",
    "device.speed(velocity, acceleration)\n",
    "(homeX, homeY, homeZ, r, j1, j2, j3, j4) = device.pose()\n",
    "print(f'homeX:{homeX} homeY:{homeY} homeZ:{homeZ} j1:{j1} j2:{j2} j3:{j3} j4:{j4}')\n",
    "print(f'r:{r}')"
   ]
  },
  {
   "cell_type": "code",
   "execution_count": 3,
   "metadata": {},
   "outputs": [],
   "source": [
    "#Arquivo config para acesso aos serviços OCI\n",
    "config = from_file(\"C:\\\\Users\\\\rromanin\\\\Downloads\\\\OCI\\\\config\")"
   ]
  },
  {
   "cell_type": "code",
   "execution_count": 4,
   "metadata": {},
   "outputs": [],
   "source": [
    "#Autenticacao, a ser enviada no post para o serviço\n",
    "auth = Signer(\n",
    "tenancy=config['tenancy'],\n",
    "user=config['user'],\n",
    "fingerprint=config['fingerprint'],\n",
    "private_key_file_location=config['key_file'],\n",
    "pass_phrase=config['pass_phrase']\n",
    ")\n"
   ]
  },
  {
   "cell_type": "code",
   "execution_count": 30,
   "metadata": {},
   "outputs": [],
   "source": [
    "def takePhoto():\n",
    "    cam = cv2.VideoCapture(0)\n",
    "    result, image = cam.read()\n",
    "    if result:\n",
    "        # saving image in local storage\n",
    "        cv2.imwrite(\"c:\\inspecao.png\", image)\n",
    "\n",
    "        with open(\"c:\\inspecao.png\", \"rb\") as image_file:\n",
    "            byte_content = image_file.read()\n",
    "            base64_bytes = base64.b64encode(byte_content)\n",
    "            encoded_string = base64_bytes.decode('utf-8')\n",
    "            \n",
    "    # If captured image is corrupted, moving to else part\n",
    "    else:\n",
    "        print(\"No image detected. Please! try again\")\n",
    "\n",
    "    return encoded_string"
   ]
  },
  {
   "cell_type": "code",
   "execution_count": 6,
   "metadata": {},
   "outputs": [],
   "source": [
    "def getOrders():\n",
    "    #Endpoint da function dobot_orders\n",
    "    endpoint = \"https://fzkvp2yhuqa.us-ashburn-1.functions.oci.oraclecloud.com/20181201/functions/ocid1.fnfunc.oc1.iad.aaaaaaaaaey64yu2ddzjh6hhix7haope7e7kvkysjtecwqtj42ztpoi4i4fq/actions/invoke\"\n",
    "\n",
    "    # body a ser enviado no post dobot_orders\n",
    "    body = {\n",
    "    'compartmentId': config['tenancy'],  # root compartment\n",
    "    'name': 'TestUser', #parametro do serviço de exemplo\n",
    "    'description': 'Created with a raw request'\n",
    "    }\n",
    "\n",
    "    #POST dobot_orders\n",
    "    response = requests.post(endpoint, json=body, auth=auth)\n",
    "    response.raise_for_status()\n",
    "\n",
    "    #Retorno do serviço\n",
    "    return list(response.json().values())[0]"
   ]
  },
  {
   "cell_type": "code",
   "execution_count": 41,
   "metadata": {},
   "outputs": [],
   "source": [
    "def log_action(tipo_objeto_id, dt_producao_inicio , dt_producao_fim, imagem_url, flg_processamento_ok=1,tipo_falha_id=-2):\n",
    "    #Endpoint da function dobot_log\n",
    "    endpoint = \"https://fzkvp2yhuqa.us-ashburn-1.functions.oci.oraclecloud.com/20181201/functions/ocid1.fnfunc.oc1.iad.aaaaaaaa2syneibknugvtqktirlzmzg4hq4yn66g2e4xik4sip35ecccbxxa/actions/invoke\"\n",
    "    \n",
    "    # body a ser enviado no post dobot_log\n",
    "    body = {\n",
    "    'compartmentId': config['tenancy'],  # root compartment\n",
    "    'tipo_objeto_id': tipo_objeto_id, #tipo de objeto produzido\n",
    "    'flg_processamento_ok': flg_processamento_ok, #produzido sem problemas?\n",
    "    'tipo_falha_id': tipo_falha_id, #se defeito, qual tipo? se nenhum= -2\n",
    "    'dt_producao_inicio': dt_producao_inicio, #se defeito, qual tipo? se nenhum= -2\n",
    "    'dt_producao_fim': dt_producao_fim, #se defeito, qual tipo? se nenhum= -2\n",
    "    'imagem_url': imagem_url, #se defeito, qual tipo? se nenhum= -2\n",
    "    'description': 'Created with a raw request'\n",
    "    }\n",
    "\n",
    "    #POST dobot_log\n",
    "    response = requests.post(endpoint, json=body, auth=auth)\n",
    "    response.raise_for_status()\n",
    "\n",
    "    #Retorno do serviço\n",
    "    return response"
   ]
  },
  {
   "cell_type": "code",
   "execution_count": 8,
   "metadata": {},
   "outputs": [],
   "source": [
    "def checkQualityVisual(encoded_string):\n",
    "    #Endpoint da function dobot_visual_check\n",
    "    endpoint = \"https://fzkvp2yhuqa.us-ashburn-1.functions.oci.oraclecloud.com/20181201/functions/ocid1.fnfunc.oc1.iad.aaaaaaaa33gdjalbno7robgmp25r25g5jew7xktn45moi2cykeddbt2egciq/actions/invoke\"\n",
    "    \n",
    "    # body a ser enviado no post dobot_log\n",
    "    body = {\n",
    "    'compartmentId': config['tenancy'],  # root compartment\n",
    "    'encoded_string': encoded_string, \n",
    "    'description': 'Created with a raw request'\n",
    "    }\n",
    "\n",
    "    #POST dobot_log\n",
    "    response = requests.post(endpoint, json=body, auth=auth)\n",
    "    response.raise_for_status()\n",
    "\n",
    "    #Retorno do serviço\n",
    "    return response"
   ]
  },
  {
   "cell_type": "code",
   "execution_count": 9,
   "metadata": {},
   "outputs": [],
   "source": [
    "listQualidadePeca = getOrders()\n",
    "\n",
    "#Rotaciona garra\n",
    "homeHead = -15\n",
    "#Intervalo entre ações\n",
    "timeCommand = 100\n"
   ]
  },
  {
   "cell_type": "code",
   "execution_count": 56,
   "metadata": {},
   "outputs": [],
   "source": [
    "#with open(\"c:\\inspecao.png\", \"rb\") as image_file:\n",
    "#\tbyte_content = image_file.read()\n",
    "#\tbase64_bytes = base64.b64encode(byte_content)\n",
    "#\tbase64_string = base64_bytes.decode('utf-8')\n",
    "\n",
    "#\t#Checagem Visual\n",
    "#\tresponse = checkQualityVisual(base64_string)\n",
    "\t"
   ]
  },
  {
   "cell_type": "code",
   "execution_count": null,
   "metadata": {},
   "outputs": [],
   "source": []
  },
  {
   "cell_type": "code",
   "execution_count": 10,
   "metadata": {},
   "outputs": [],
   "source": [
    "def posicaoFoto():\n",
    "    device.move_to(homeX+80,homeY-35,homeZ+55,homeHead,wait=True)\n"
   ]
  },
  {
   "cell_type": "code",
   "execution_count": 11,
   "metadata": {},
   "outputs": [],
   "source": [
    "def abrirGarra():\n",
    "    device.grip(False)\n",
    "    device.wait(timeCommand)"
   ]
  },
  {
   "cell_type": "code",
   "execution_count": 12,
   "metadata": {},
   "outputs": [],
   "source": [
    "def fecharGarra():\n",
    "    device.grip(True)\n",
    "    device.wait(timeCommand)"
   ]
  },
  {
   "cell_type": "code",
   "execution_count": 13,
   "metadata": {},
   "outputs": [],
   "source": [
    "def posicaoSeguranca():\n",
    "    abrirGarra()\n",
    "    device.move_to(homeX, homeY, homeZ, homeHead, wait=False)\n",
    "    device.move_to(homeX,homeY+120,homeZ,homeHead,wait=False)\n",
    "    device.move_to( homeX+120,homeY+120,homeZ+100,homeHead,wait=False)"
   ]
  },
  {
   "cell_type": "code",
   "execution_count": 14,
   "metadata": {},
   "outputs": [],
   "source": [
    "def checkRobo():\n",
    "    posicaoSeguranca()\n",
    "    device.move_to(homeX+120,homeY,homeZ+100,homeHead,wait=True)\n",
    "    posicaoFoto()\n",
    "    takePhoto()\n",
    "    device.move_to(homeX+120,homeY,homeZ+100,homeHead,wait=True)\n",
    "    device.move_to(homeX+120,homeY-40,homeZ,homeHead,wait=True)\n",
    "    fecharGarra() "
   ]
  },
  {
   "cell_type": "code",
   "execution_count": 21,
   "metadata": {},
   "outputs": [],
   "source": [
    "checkRobo()\n"
   ]
  },
  {
   "cell_type": "code",
   "execution_count": 43,
   "metadata": {},
   "outputs": [],
   "source": [
    "posicaoSeguranca()\n",
    "tempo = 200"
   ]
  },
  {
   "cell_type": "code",
   "execution_count": 44,
   "metadata": {},
   "outputs": [
    {
     "name": "stdout",
     "output_type": "stream",
     "text": [
      "Instante da foto inicio: 2023-01-05 18:54:44.104868\n",
      "https://objectstorage.us-ashburn-1.oraclecloud.com/n/idcci5ks1puo/b/Frankie/o/Dobot_20230105215450.png\n",
      "['https://objectstorage.us-ashburn-1.oraclecloud.com/n/idcci5ks1puo/b/Frankie/o/Dobot_20230105215450.png', 'Gear', 'Auto part', 'Wheel', 'Tire', 'Metal']\n",
      "tempo 300\n",
      "Instante da foto inicio: 2023-01-05 18:55:07.685138\n",
      "https://objectstorage.us-ashburn-1.oraclecloud.com/n/idcci5ks1puo/b/Frankie/o/Dobot_20230105215514.png\n",
      "['https://objectstorage.us-ashburn-1.oraclecloud.com/n/idcci5ks1puo/b/Frankie/o/Dobot_20230105215514.png', 'Gear', 'Auto part', 'Wheel', 'Cartoon', 'Tire']\n",
      "tempo 400\n",
      "Instante da foto inicio: 2023-01-05 18:55:31.100775\n",
      "https://objectstorage.us-ashburn-1.oraclecloud.com/n/idcci5ks1puo/b/Frankie/o/Dobot_20230105215537.png\n",
      "['https://objectstorage.us-ashburn-1.oraclecloud.com/n/idcci5ks1puo/b/Frankie/o/Dobot_20230105215537.png', 'Gear', 'Cartoon', 'Button', 'Drawing', 'Owl']\n",
      "tempo 500\n",
      "Instante da foto inicio: 2023-01-05 18:55:54.458770\n",
      "https://objectstorage.us-ashburn-1.oraclecloud.com/n/idcci5ks1puo/b/Frankie/o/Dobot_20230105215601.png\n",
      "['https://objectstorage.us-ashburn-1.oraclecloud.com/n/idcci5ks1puo/b/Frankie/o/Dobot_20230105215601.png', 'Metal', 'Tool', 'Silver', 'Kitchen knife', 'Platinum']\n",
      "tempo 600\n",
      "Instante da foto inicio: 2023-01-05 18:56:17.634367\n",
      "https://objectstorage.us-ashburn-1.oraclecloud.com/n/idcci5ks1puo/b/Frankie/o/Dobot_20230105215624.png\n",
      "['https://objectstorage.us-ashburn-1.oraclecloud.com/n/idcci5ks1puo/b/Frankie/o/Dobot_20230105215624.png', 'Gear', 'Auto part', 'Wheel', 'Tire', 'Button']\n",
      "tempo 700\n",
      "Instante da foto inicio: 2023-01-05 18:56:41.530967\n",
      "https://objectstorage.us-ashburn-1.oraclecloud.com/n/idcci5ks1puo/b/Frankie/o/Dobot_20230105215648.png\n",
      "['https://objectstorage.us-ashburn-1.oraclecloud.com/n/idcci5ks1puo/b/Frankie/o/Dobot_20230105215648.png', 'Gear', 'Wheel', 'Auto part', 'Tire', 'Bicycle']\n",
      "tempo 800\n",
      "Instante da foto inicio: 2023-01-05 18:57:06.429099\n",
      "https://objectstorage.us-ashburn-1.oraclecloud.com/n/idcci5ks1puo/b/Frankie/o/Dobot_20230105215713.png\n",
      "['https://objectstorage.us-ashburn-1.oraclecloud.com/n/idcci5ks1puo/b/Frankie/o/Dobot_20230105215713.png', 'Gear', 'Auto part', 'Wheel', 'Tire', 'Cartoon']\n",
      "tempo 900\n",
      "Fim do ciclo\n"
     ]
    }
   ],
   "source": [
    "for item in listQualidadePeca:\n",
    "\t#inicio do processo\n",
    "\ttime = datetime.now()\n",
    "\tdt_producao_inicio = time.strftime(\"%Y%m%d%H%M%S\")\n",
    "\n",
    "\t#Rotaciona para posicao da esteira\n",
    "\tdevice.move_to(homeX+120,homeY,homeZ+100,homeHead,wait=True)\n",
    "\n",
    "\t#Posicao de foto\n",
    "\ttime = datetime.now()\n",
    "\tprint(\"Instante da foto inicio:\",time)\n",
    "\tposicaoFoto()\n",
    "\tencoded_string = takePhoto()\n",
    "\ttime = datetime.now()\n",
    "\t#print(\"Instante da foto fim:\",time)\n",
    "\t\n",
    "\t#Checagem Visual\n",
    "\ttime = datetime.now()\n",
    "\t#print(\"Instante da checagem visual inicio:\",time)\n",
    "\tresponse = checkQualityVisual(encoded_string)\n",
    "\ttime = datetime.now()\n",
    "\t#print(\"Instante da checagem visual fim:\",time)\n",
    "\tresult = json.loads(response.content)\n",
    "\n",
    "\t#Endereco da foto no object storage\n",
    "\timagemURL = result.get('objetos')[0]\n",
    "\tprint(imagemURL)\n",
    "\tprint(result.get('objetos'))\n",
    "\t\n",
    "\tisGear = 0\n",
    "\tif 'Gear' in result.get('objetos'):\n",
    "\t\tisGear = 1\n",
    "\n",
    "\tdevice.move_to(homeX+120,homeY,homeZ+100,homeHead,wait=True)\n",
    "\t\n",
    "\t#Baixa garra\n",
    "\tdevice.move_to(homeX+120,homeY-40,homeZ,homeHead,wait=True)\n",
    "\n",
    "\t#Fecha a garra\n",
    "\tfecharGarra()\n",
    "\n",
    "\t#Sobe garra\n",
    "\tdevice.move_to(homeX+120,homeY-40,homeZ+100,homeHead,wait=True)\n",
    "\n",
    "\t#Verifica se é uma engrenagem\n",
    "\tif isGear > 0 and item == 1:\n",
    "\t\t#Move para posicao OK \n",
    "\t\tdevice.move_to(homeX-20,homeY-160,homeZ+100,homeHead,wait=True)\n",
    "\t\tdevice.move_to(homeX-20,homeY-160,homeZ,homeHead,wait=True)\n",
    "\t\tabrirGarra()\n",
    "\t\tdevice.move_to(homeX-20,homeY-160,homeZ+100,homeHead,wait=True)\n",
    "\t\tflg_processamento_ok = 1\n",
    "\t\ttipo_falha_id = -2\n",
    "\telse:\n",
    "\t\t#Move para posicao NOK\n",
    "\t\tdevice.move_to(homeX+120,homeY+120,homeZ+100,homeHead,wait=True)\n",
    "\t\tdevice.move_to(homeX+120,homeY+120,homeZ,homeHead,wait=True)\n",
    "\t\tabrirGarra()\n",
    "\t\tdevice.move_to(homeX+120,homeY+120,homeZ+100,homeHead,wait=True)\n",
    "\t\tflg_processamento_ok = 0\n",
    "\t\ttipo_falha_id = 1 # objeto incorreto\n",
    "\n",
    "\tdevice.wait(tempo)\n",
    "\ttempo = tempo + 100\n",
    "\tprint(\"tempo\",tempo)\n",
    "\t#fim do processo\n",
    "\ttime = datetime.now()\n",
    "\tdt_producao_fim = time.strftime(\"%Y%m%d%H%M%S\")\n",
    "\n",
    "\tlog_action(item, dt_producao_inicio , dt_producao_fim, imagemURL, flg_processamento_ok,tipo_falha_id)\n",
    "\n",
    "posicaoSeguranca()\t\n",
    "device.suck(False)\n",
    "print(\"Fim do ciclo\")"
   ]
  },
  {
   "cell_type": "code",
   "execution_count": 24,
   "metadata": {},
   "outputs": [],
   "source": [
    "device.suck(False)"
   ]
  },
  {
   "cell_type": "code",
   "execution_count": 202,
   "metadata": {},
   "outputs": [],
   "source": [
    "device.close()"
   ]
  },
  {
   "cell_type": "code",
   "execution_count": 151,
   "metadata": {},
   "outputs": [
    {
     "data": {
      "text/plain": [
       "[1, 1, 1, 1, 1, 1, 1]"
      ]
     },
     "execution_count": 151,
     "metadata": {},
     "output_type": "execute_result"
    }
   ],
   "source": [
    "listQualidadePeca"
   ]
  },
  {
   "cell_type": "code",
   "execution_count": null,
   "metadata": {},
   "outputs": [],
   "source": []
  }
 ],
 "metadata": {
  "kernelspec": {
   "display_name": "Python 3",
   "language": "python",
   "name": "python3"
  },
  "language_info": {
   "codemirror_mode": {
    "name": "ipython",
    "version": 3
   },
   "file_extension": ".py",
   "mimetype": "text/x-python",
   "name": "python",
   "nbconvert_exporter": "python",
   "pygments_lexer": "ipython3",
   "version": "3.11.1"
  },
  "orig_nbformat": 4,
  "vscode": {
   "interpreter": {
    "hash": "b725f98fdd09c2957a58ae622be9a095f561192346ab3718167c51b5ba38e9b3"
   }
  }
 },
 "nbformat": 4,
 "nbformat_minor": 2
}
